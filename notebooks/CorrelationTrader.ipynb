{
 "cells": [
  {
   "cell_type": "code",
   "execution_count": null,
   "id": "emotional-reply",
   "metadata": {},
   "outputs": [],
   "source": [
    "import numpy as np\n",
    "import os\n",
    "\n",
    "from app.environment.dataprovider import DataProvider\n",
    "from app.preparation.preparator import DataPreparator"
   ]
  },
  {
   "cell_type": "code",
   "execution_count": null,
   "id": "emerging-defensive",
   "metadata": {},
   "outputs": [],
   "source": [
    "apikey = os.getenv('TIINGO_API_KEY')\n",
    "days = 5\n",
    "coef_threshold = 0.98\n",
    "\n",
    "train_start_date = '2000-01-01'\n",
    "train_end_date = '2015-12-31'\n",
    "\n",
    "test_start_date = '2016-01-01'\n",
    "test_end_date = '2020-12-31'\n",
    "\n",
    "provider = DataProvider(apikey)"
   ]
  },
  {
   "cell_type": "code",
   "execution_count": null,
   "id": "breeding-beginning",
   "metadata": {},
   "outputs": [],
   "source": [
    "train_quotes = provider.load(train_ticker, train_start_date, train_end_date)\n",
    "train_quotes['window'] = train_windows = \\\n",
    "    DataPreparator.calculate_windows(\n",
    "        train_quotes,\n",
    "        days=days,\n",
    "        normalize=True,\n",
    "        columns=['open', 'high', 'low', 'close'],\n",
    "        adjust=provider.adjust_prices)\n",
    "windows = np.array(train_quotes['window'].values.tolist())\n",
    "shape = windows.shape\n",
    "windows = windows.reshape((shape[0], shape[1] * shape[2] * shape[3]))\n",
    "windows = [window for window in windows]\n",
    "train_quotes['window'] = windows\n",
    "train_quotes[['buy', 'sell']] = DataPreparator.calculate_signals(train_quotes)\n",
    "train_quotes['prev_close'] = train_quotes['close'].shift(1).fillna(0.0)\n",
    "train_quotes['next_close'] = train_quotes['close'].shift(-1).fillna(0.0)\n",
    "train_quotes['prev_change'] = (train_quotes['close'] / train_quotes['prev_close']) - 1.0\n",
    "train_quotes['next_change'] = (train_quotes['next_close'] / train_quotes['close']) - 1.0"
   ]
  },
  {
   "cell_type": "code",
   "execution_count": null,
   "id": "centered-buffalo",
   "metadata": {},
   "outputs": [],
   "source": [
    "windows = train_quotes['window'].values[days - 1:].tolist()\n",
    "samples = train_quotes[train_quotes['next_change'] > 0.02]['window'].values.tolist()\n",
    "coefs = np.corrcoef(windows, samples, rowvar=True)\n",
    "coefs_indices = np.where((coefs >= coef_threshold))\n",
    "coefs_filter = (coefs_indices[0] != coefs_indices[1]) & (coefs_indices[0] < len(windows)) & (coefs_indices[1] >= len(windows))\n",
    "coefs_indices = np.swapaxes(coefs_indices, 0, 1)\n",
    "trade_indices = coefs_indices[coefs_filter, 0] + days - 1\n",
    "sample_indices = coefs_indices[coefs_filter, 1] - len(windows)\n",
    "results = train_quotes.iloc[trade_indices]['next_change'].values\n",
    "train_samples = {}\n",
    "for index in range(len(results)):\n",
    "    sample_index = sample_indices[index]\n",
    "    train_samples[sample_index] = (0 if sample_index not in train_samples else train_samples[sample_index]) + results[index]\n",
    "trained_samples = [samples[sample_index] for sample_index, total_result in train_samples.items() if total_result > 0.02]\n",
    "print(len(samples))\n",
    "print(len(trained_samples))\n",
    "# coefs = np.corrcoef(trained_samples, rowvar=True)\n",
    "# coefs_indices = np.where((coefs >= coef_threshold))\n",
    "# coefs_filter = (coefs_indices[0] != coefs_indices[1])\n",
    "# coefs_indices = np.swapaxes(coefs_indices, 0, 1)\n",
    "# trained_sample_indices = set(coefs_indices[coefs_filter, 0])\n",
    "# trained_samples = [trained_samples[index] for index in trained_sample_indices]"
   ]
  },
  {
   "cell_type": "code",
   "execution_count": null,
   "id": "provincial-meditation",
   "metadata": {},
   "outputs": [],
   "source": [
    "test_quotes = provider.load(test_ticker, test_start_date, test_end_date)\n",
    "test_quotes['window'] = test_windows = \\\n",
    "    DataPreparator.calculate_windows(\n",
    "        test_quotes,\n",
    "        days=days,\n",
    "        normalize=True,\n",
    "        columns=['open', 'high', 'low', 'close'],\n",
    "        adjust=provider.adjust_prices)\n",
    "windows = np.array(test_quotes['window'].values.tolist())\n",
    "shape = windows.shape\n",
    "windows = windows.reshape((shape[0], shape[1] * shape[2] * shape[3]))\n",
    "windows = [window for window in windows]\n",
    "test_quotes['window'] = windows\n",
    "test_quotes[['buy', 'sell']] = DataPreparator.calculate_signals(test_quotes)\n",
    "test_quotes['prev_close'] = test_quotes['close'].shift(1).fillna(0.0)\n",
    "test_quotes['next_close'] = test_quotes['close'].shift(-1).fillna(0.0)\n",
    "test_quotes['prev_change'] = (test_quotes['close'] / test_quotes['prev_close']) - 1.0\n",
    "test_quotes['next_change'] = (test_quotes['next_close'] / test_quotes['close']) - 1.0"
   ]
  },
  {
   "cell_type": "code",
   "execution_count": null,
   "id": "varying-blond",
   "metadata": {},
   "outputs": [],
   "source": [
    "check_samples = trained_samples\n",
    "check_quotes = train_quotes\n",
    "\n",
    "windows = np.array(check_quotes['window'].values.tolist())\n",
    "coefs = np.corrcoef(windows, check_samples, rowvar=True)\n",
    "coefs_indices = np.where((coefs >= coef_threshold))\n",
    "my_filter = (coefs_indices[0] != coefs_indices[1])  & (coefs_indices[0] < len(windows)) & (coefs_indices[1] >= len(windows))\n",
    "coefs_indices = np.swapaxes(coefs_indices, 0, 1)\n",
    "trade_indices = coefs_indices[my_filter, 0]\n",
    "sample_indices = coefs_indices[my_filter, 1] - len(windows)\n",
    "results = check_quotes.iloc[trade_indices]['next_change'].values\n",
    "\n",
    "trades = [[results[index], sample_indices[index]] for index in range(len(results))]\n",
    "\n",
    "total = 1.0\n",
    "good = 0\n",
    "bad = 0\n",
    "for trade in trades:\n",
    "    print(f'result {trade[0] * 100.0:5.2f} > sample {trade[1]}')\n",
    "    if trade[0] > 0.0:\n",
    "        trade[0] *= (0.25 * 1.055)\n",
    "        good += 1\n",
    "    else:\n",
    "        bad += 1\n",
    "    total *= 1.0 + trade[0]\n",
    "print(f'capital: {100000.0 * total:.2f} / {good} : {bad} / {total:.2f}')"
   ]
  },
  {
   "cell_type": "code",
   "execution_count": null,
   "id": "cathedral-statistics",
   "metadata": {},
   "outputs": [],
   "source": []
  }
 ],
 "metadata": {
  "kernelspec": {
   "display_name": "Python 3",
   "language": "python",
   "name": "python3"
  },
  "language_info": {
   "codemirror_mode": {
    "name": "ipython",
    "version": 3
   },
   "file_extension": ".py",
   "mimetype": "text/x-python",
   "name": "python",
   "nbconvert_exporter": "python",
   "pygments_lexer": "ipython3",
   "version": "3.8.5"
  }
 },
 "nbformat": 4,
 "nbformat_minor": 5
}
