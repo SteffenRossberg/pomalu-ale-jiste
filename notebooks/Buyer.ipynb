{
 "cells": [
  {
   "cell_type": "code",
   "execution_count": 1,
   "id": "hispanic-spelling",
   "metadata": {},
   "outputs": [],
   "source": [
    "import numpy as np\n",
    "import os\n",
    "\n",
    "from app.environment.dataprovider import DataProvider\n",
    "from app.preparation.preparator import DataPreparator"
   ]
  },
  {
   "cell_type": "code",
   "execution_count": 63,
   "id": "fossil-romantic",
   "metadata": {},
   "outputs": [],
   "source": [
    "apikey = os.getenv('TIINGO_API_KEY')\n",
    "days = 5\n",
    "weeks = 5\n",
    "ticker = 'MSFT'\n",
    "\n",
    "train_start_date = '2000-01-01'\n",
    "train_end_date = '2010-12-31'\n",
    "\n",
    "val_start_date = '2011-01-01'\n",
    "val_end_date = '2015-12-31'\n",
    "\n",
    "test_start_date = '2016-01-01'\n",
    "test_end_date = '2020-12-31'\n",
    "\n",
    "provider = DataProvider(apikey)"
   ]
  },
  {
   "cell_type": "code",
   "execution_count": 64,
   "id": "animated-moore",
   "metadata": {},
   "outputs": [],
   "source": [
    "def calculate_weekday_mean_change(window):\n",
    "    day = window['weekday'].values[-1]\n",
    "    mean_change = window[window['weekday'] == day]['change'].mean()\n",
    "    return mean_change\n",
    "\n",
    "def calculate_weekday_sum_change(window):\n",
    "    day = window['weekday'].values[-1]\n",
    "    sum_change = window[window['weekday'] == day]['change'].sum()\n",
    "    return sum_change\n",
    "\n",
    "def calculate_weekday_sum_ratio(window):\n",
    "    day = window['weekday'].values[-1]\n",
    "    sum_change = window[window['weekday'] == day]['change'].sum()\n",
    "    total_change = window['change'].sum()\n",
    "    return sum_change / total_change\n",
    "\n",
    "def calculate_weekday_stdev_change(window):\n",
    "    day = window['weekday'].values[-1]\n",
    "    stdev_change = window[window['weekday'] == day]['change'].std()\n",
    "    return stdev_change\n"
   ]
  },
  {
   "cell_type": "code",
   "execution_count": 147,
   "id": "afraid-pizza",
   "metadata": {},
   "outputs": [
    {
     "data": {
      "text/plain": [
       "(5284, 1, 4, 5)"
      ]
     },
     "execution_count": 147,
     "metadata": {},
     "output_type": "execute_result"
    }
   ],
   "source": [
    "train_quotes = provider.load(ticker, train_start_date, test_end_date)\n",
    "train_quotes['window'] = train_windows = \\\n",
    "    DataPreparator.calculate_windows(\n",
    "        train_quotes,\n",
    "        days=days,\n",
    "        normalize=True,\n",
    "        columns=['open', 'high', 'low', 'close'],\n",
    "        adjust=provider.adjust_prices)\n",
    "windows = np.array(train_quotes['window'].values.tolist())\n",
    "train_quotes['change'] = train_quotes['adj_close'].pct_change(1).shift(-1).fillna(0.0)\n",
    "train_quotes['weekday'] = train_quotes['date'].dt.weekday\n",
    "train_quotes['weekday_mean_change'] = [calculate_weekday_mean_change(win) for win in train_quotes.rolling(weeks * 5)]\n",
    "train_quotes['weekday_sum_change'] = [calculate_weekday_sum_change(win) for win in train_quotes.rolling(weeks * 5)]\n",
    "train_quotes['weekday_sum_ratio'] = [calculate_weekday_sum_ratio(win) for win in train_quotes.rolling(weeks * 5)]\n",
    "train_quotes['weekday_stdev_change'] = [calculate_weekday_stdev_change(win) for win in train_quotes.rolling(weeks * 5)]\n",
    "shape = windows.shape\n",
    "shape"
   ]
  },
  {
   "cell_type": "code",
   "execution_count": 148,
   "id": "gorgeous-tension",
   "metadata": {},
   "outputs": [],
   "source": [
    "# train_quotes[['date', 'weekday', 'adj_close', 'change', 'weekday_mean_change', 'weekday_sum_change',\n",
    "#              'weekday_sum_ratio', 'weekday_stdev_change']]"
   ]
  },
  {
   "cell_type": "code",
   "execution_count": 149,
   "id": "stretch-toyota",
   "metadata": {},
   "outputs": [],
   "source": [
    "# data = train_quotes[['date', 'adj_close', 'weekday_sum_ratio']][-200:].copy()\n",
    "# data.set_index('date', inplace=True)\n",
    "# ax = data['adj_close'].plot(figsize=(20, 10))\n",
    "# data['weekday_sum_ratio'].plot(secondary_y=True, ax=ax)"
   ]
  },
  {
   "cell_type": "code",
   "execution_count": 150,
   "id": "virtual-sweet",
   "metadata": {},
   "outputs": [
    {
     "name": "stdout",
     "output_type": "stream",
     "text": [
      "0.0100 4.95731710006193 42.566347778930364\n",
      "0.0504 0.8243834656347967 7.506918226998267\n",
      "0.0391 1.4567876020743389 9.718040897382352\n",
      "-0.0278 0.8150330172099461 9.34094666894476\n",
      "0.0175 4.45507783424149 39.490725582194784\n",
      "0.0298 2.748528908704581 8.23873091768309\n",
      "0.0087 1.8397839919710883 7.505440753115503\n",
      "0.0061 0.5829826027573498 5.286961926509748\n",
      "-0.0232 3.392810816065681 5.640843163025953\n",
      "0.0581 0.9782653497454384 29.28752953909835\n",
      "-0.0103 3.9614213882493456 7.5330510080872255\n",
      "0.0084 1.860588424694718 5.415040423913499\n",
      "0.0053 4.543575798827013 7.913088399243059\n",
      "0.0147 2.0812832203696248 6.350337846269337\n",
      "-0.0158 2.440040571465341 33.4807231433421\n",
      "0.0045 1.662577144772936 24.67136195590777\n",
      "-0.0026 1.5636895273812805 16.979792315810464\n",
      "0.0060 1.6860429938778252 126.9813291527877\n",
      "-0.0087 2.8394102019119836 6.203763975635548\n",
      "-0.0073 1.7778750208082947 41.80735575339817\n",
      "-0.0197 2.9502939454531316 22.491259437906873\n",
      "0.0003 2.312299988885258 7.458919588136893\n",
      "0.0296 1.7082508362232252 85.61625646656412\n",
      "0.0168 1.128577128398032 28.125258843010833\n",
      "0.0093 0.5253087456467629 7.175669871739844\n",
      "0.0309 1.0042318765227942 11.90977121155765\n",
      "0.0021 4.099434052275212 6.630559035476725\n",
      "0.0243 0.7926042253783729 19.460313405580493\n",
      "-0.0132 1.198543606118453 9.744311683336946\n",
      "-0.0368 1.3770188082947774 12.30548049420212\n",
      "0.0052 2.907292229239352 5.414746711477851\n",
      "0.0132 2.4318085549956514 34.40538257184696\n",
      "0.0191 0.79001287585754 62.14896243280799\n",
      "0.0024 0.6007517525195365 8.341552161249528\n",
      "-0.0055 2.7520527559194012 13.829684621233415\n",
      "0.0154 2.366992126115007 54.01851807088805\n",
      "-0.0078 1.8320418681077886 10.262438527593103\n",
      "0.0085 1.2269864831215362 5.870699517560237\n",
      "-0.0002 1.7749548463666551 7.652701487287562\n",
      "0.0075 1.8185977896414236 16.966579497632903\n",
      "-0.0127 1.1429538366769616 13.785274040683934\n",
      "-0.0122 1.6637782674190087 12.752544957873425\n",
      "-0.0087 0.5135324071036983 192.97984192238354\n",
      "0.0596 0.9868096214574315 8.786422101783534\n",
      "-0.0027 1.9155116497719311 5.637841834164331\n",
      "0.0183 0.6832216986369625 6.558111821611467\n",
      "-0.0037 1.6193028055254364 11.201182168257752\n",
      "0.0200 2.320211724633512 5.577244955416172\n",
      "-0.0069 1.721074880093613 84.51916151040622\n",
      "-0.0071 1.6967812085871241 15.153149621960752\n",
      "-0.0281 1.1507060671703144 6.5527699459517965\n",
      "0.0196 0.6843259760529605 9.147380309553926\n",
      "-0.0176 2.3090472846411005 7.716868373692714\n",
      "0.0081 3.107195325375301 12.779895683558392\n",
      "-0.0060 1.1530118343193876 6.111427861567194\n",
      "-0.0543 3.5339701257578415 5.176702033094391\n",
      "-0.0200 0.6235093358706361 13.92274915993714\n",
      "-0.0339 4.006789465225993 33.91160279176504\n",
      "0.0207 1.543078291431437 5.833574610544354\n",
      "-0.0072 3.300987789810648 5.9734800258843155\n",
      "0.0189 3.9746852514703064 34.43995926081472\n",
      "-0.0280 1.0802237480419687 4586.569988293223\n",
      "-0.0104 2.5648798592059157 5.009463718192597\n",
      "34 / 63 = 53.97% / 16.81%\n"
     ]
    }
   ],
   "source": [
    "data = train_quotes[['date', 'adj_close', 'weekday_sum_ratio']][weeks * 5 - 1:].copy()\n",
    "data['next_close'] = data['adj_close'].shift(-1)\n",
    "data['last_weekday_sum_ratio'] = data['weekday_sum_ratio'].shift(1)\n",
    "data['buy'] = data.apply(lambda r: r['adj_close'] if 0.5 < r['weekday_sum_ratio'] < 5 < r['last_weekday_sum_ratio'] else np.nan, axis=1)\n",
    "data['sell'] = data.apply(lambda r: r['adj_close'] if r['last_weekday_sum_ratio'] < r['weekday_sum_ratio'] < 0.0 else np.nan, axis=1).fillna(method='bfill')\n",
    "data['ratio'] = data['next_close'] / data['buy']\n",
    "total_earnings = 1.0\n",
    "positive_trades = 0\n",
    "all_trades = 0\n",
    "for index, row in data[data['ratio'] > 0.0][['ratio', 'weekday_sum_ratio', 'last_weekday_sum_ratio']].iterrows():\n",
    "    earnings = row['ratio'] - 1.0\n",
    "    print(f'{earnings:.4f} {row[\"weekday_sum_ratio\"]} {row[\"last_weekday_sum_ratio\"]}')\n",
    "    positive_trades += 1 if earnings > 0.0 else 0\n",
    "    all_trades += 1\n",
    "    total_earnings *= (earnings if earnings < 1.0 else (earnings * (1 - (0.25 * 1.055)))) + 1.0\n",
    "print(f'{positive_trades} / {all_trades} = {positive_trades / all_trades * 100.0:.2f}% / {(total_earnings - 1.0) * 100.0:.2f}%')"
   ]
  },
  {
   "cell_type": "code",
   "execution_count": null,
   "id": "lucky-uruguay",
   "metadata": {},
   "outputs": [],
   "source": []
  },
  {
   "cell_type": "code",
   "execution_count": null,
   "id": "close-bristol",
   "metadata": {},
   "outputs": [],
   "source": []
  }
 ],
 "metadata": {
  "kernelspec": {
   "display_name": "Python 3",
   "language": "python",
   "name": "python3"
  },
  "language_info": {
   "codemirror_mode": {
    "name": "ipython",
    "version": 3
   },
   "file_extension": ".py",
   "mimetype": "text/x-python",
   "name": "python",
   "nbconvert_exporter": "python",
   "pygments_lexer": "ipython3",
   "version": "3.8.5"
  }
 },
 "nbformat": 4,
 "nbformat_minor": 5
}
